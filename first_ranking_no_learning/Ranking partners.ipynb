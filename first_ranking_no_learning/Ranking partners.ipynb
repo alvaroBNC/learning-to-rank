{
 "cells": [
  {
   "cell_type": "code",
   "execution_count": 39,
   "metadata": {},
   "outputs": [],
   "source": [
    "# -*- coding: utf-8 -*-"
   ]
  },
  {
   "cell_type": "code",
   "execution_count": 40,
   "metadata": {
    "collapsed": false
   },
   "outputs": [],
   "source": [
    "import sys\n",
    "sys.path.insert(0, '../lib')  # noqa\n",
    "import numpy as np\n",
    "import pandas as pd\n",
    "from sklearn.model_selection import train_test_split\n",
    "from sklearn.metrics import mean_squared_error\n",
    "from sklearn.linear_model import LogisticRegression\n",
    "import pdb\n",
    "from sklearn.metrics import *\n",
    "%matplotlib inline\n",
    "import matplotlib.pyplot as plt\n",
    "from sklearn import preprocessing\n",
    "from sklearn.preprocessing import StandardScaler\n",
    "import itertools\n",
    "import csv\n",
    "from lasagne import layers\n",
    "from lasagne.updates import nesterov_momentum\n",
    "from lasagne.nonlinearities import softmax\n",
    "from nolearn.lasagne import NeuralNet\n",
    "from greedy_order import *"
   ]
  },
  {
   "cell_type": "markdown",
   "metadata": {},
   "source": [
    "# Load dataset"
   ]
  },
  {
   "cell_type": "code",
   "execution_count": 41,
   "metadata": {},
   "outputs": [],
   "source": [
    "practice_data = pd.read_csv( \n",
    "    'partners-dataset/u.practice_area', \n",
    "    sep = '|', \n",
    "    encoding = \"ISO-8859-1\", \n",
    "    header = None, \n",
    "    names=['name', 'id'] )"
   ]
  },
  {
   "cell_type": "code",
   "execution_count": 42,
   "metadata": {},
   "outputs": [],
   "source": [
    "partner_data_columns = np.append(\n",
    "    ['partner_id', 'name', 'experience'], \n",
    "    practice_data['name'].values\n",
    ")"
   ]
  },
  {
   "cell_type": "code",
   "execution_count": 43,
   "metadata": {
    "collapsed": true
   },
   "outputs": [
    {
     "output_type": "execute_result",
     "data": {
      "text/plain": [
       "                          name  experience  Others  Banca  Competencia  \\\n",
       "partner_id                                                               \n",
       "1                Eva MartÃ­nez          15       0      0            0   \n",
       "2           Juan Carlos LÃ³pez          10       0      1            0   \n",
       "3              MarÃ­a Ãlvarez          20       0      1            0   \n",
       "4              Carmen Guijarro          30       1      0            0   \n",
       "5              JesÃºs Quintero           5       0      1            0   \n",
       "6              Roberto GarcÃ­a          25       0      1            0   \n",
       "7                   Marina Gil           5       0      1            0   \n",
       "8            Javier SebastiÃ¡n          10       0      1            1   \n",
       "9               Teresa Herrera          25       0      0            0   \n",
       "10            Mario VelÃ¡zquez          20       0      0            1   \n",
       "\n",
       "            Energia  Farma  Inmobiliario  Infraestructuras  Tech  M&A  \n",
       "partner_id                                                             \n",
       "1                 0      0             0                 0     0    1  \n",
       "2                 0      0             0                 1     0    0  \n",
       "3                 0      0             1                 0     1    0  \n",
       "4                 1      0             1                 1     0    0  \n",
       "5                 0      0             0                 0     0    0  \n",
       "6                 0      0             1                 1     0    0  \n",
       "7                 1      0             1                 1     0    0  \n",
       "8                 1      0             1                 1     1    0  \n",
       "9                 1      1             1                 1     0    0  \n",
       "10                0      1             1                 1     0    1  "
      ],
      "text/html": "<div>\n<style scoped>\n    .dataframe tbody tr th:only-of-type {\n        vertical-align: middle;\n    }\n\n    .dataframe tbody tr th {\n        vertical-align: top;\n    }\n\n    .dataframe thead th {\n        text-align: right;\n    }\n</style>\n<table border=\"1\" class=\"dataframe\">\n  <thead>\n    <tr style=\"text-align: right;\">\n      <th></th>\n      <th>name</th>\n      <th>experience</th>\n      <th>Others</th>\n      <th>Banca</th>\n      <th>Competencia</th>\n      <th>Energia</th>\n      <th>Farma</th>\n      <th>Inmobiliario</th>\n      <th>Infraestructuras</th>\n      <th>Tech</th>\n      <th>M&amp;A</th>\n    </tr>\n    <tr>\n      <th>partner_id</th>\n      <th></th>\n      <th></th>\n      <th></th>\n      <th></th>\n      <th></th>\n      <th></th>\n      <th></th>\n      <th></th>\n      <th></th>\n      <th></th>\n      <th></th>\n    </tr>\n  </thead>\n  <tbody>\n    <tr>\n      <th>1</th>\n      <td>Eva MartÃ­nez</td>\n      <td>15</td>\n      <td>0</td>\n      <td>0</td>\n      <td>0</td>\n      <td>0</td>\n      <td>0</td>\n      <td>0</td>\n      <td>0</td>\n      <td>0</td>\n      <td>1</td>\n    </tr>\n    <tr>\n      <th>2</th>\n      <td>Juan Carlos LÃ³pez</td>\n      <td>10</td>\n      <td>0</td>\n      <td>1</td>\n      <td>0</td>\n      <td>0</td>\n      <td>0</td>\n      <td>0</td>\n      <td>1</td>\n      <td>0</td>\n      <td>0</td>\n    </tr>\n    <tr>\n      <th>3</th>\n      <td>MarÃ­a Ãlvarez</td>\n      <td>20</td>\n      <td>0</td>\n      <td>1</td>\n      <td>0</td>\n      <td>0</td>\n      <td>0</td>\n      <td>1</td>\n      <td>0</td>\n      <td>1</td>\n      <td>0</td>\n    </tr>\n    <tr>\n      <th>4</th>\n      <td>Carmen Guijarro</td>\n      <td>30</td>\n      <td>1</td>\n      <td>0</td>\n      <td>0</td>\n      <td>1</td>\n      <td>0</td>\n      <td>1</td>\n      <td>1</td>\n      <td>0</td>\n      <td>0</td>\n    </tr>\n    <tr>\n      <th>5</th>\n      <td>JesÃºs Quintero</td>\n      <td>5</td>\n      <td>0</td>\n      <td>1</td>\n      <td>0</td>\n      <td>0</td>\n      <td>0</td>\n      <td>0</td>\n      <td>0</td>\n      <td>0</td>\n      <td>0</td>\n    </tr>\n    <tr>\n      <th>6</th>\n      <td>Roberto GarcÃ­a</td>\n      <td>25</td>\n      <td>0</td>\n      <td>1</td>\n      <td>0</td>\n      <td>0</td>\n      <td>0</td>\n      <td>1</td>\n      <td>1</td>\n      <td>0</td>\n      <td>0</td>\n    </tr>\n    <tr>\n      <th>7</th>\n      <td>Marina Gil</td>\n      <td>5</td>\n      <td>0</td>\n      <td>1</td>\n      <td>0</td>\n      <td>1</td>\n      <td>0</td>\n      <td>1</td>\n      <td>1</td>\n      <td>0</td>\n      <td>0</td>\n    </tr>\n    <tr>\n      <th>8</th>\n      <td>Javier SebastiÃ¡n</td>\n      <td>10</td>\n      <td>0</td>\n      <td>1</td>\n      <td>1</td>\n      <td>1</td>\n      <td>0</td>\n      <td>1</td>\n      <td>1</td>\n      <td>1</td>\n      <td>0</td>\n    </tr>\n    <tr>\n      <th>9</th>\n      <td>Teresa Herrera</td>\n      <td>25</td>\n      <td>0</td>\n      <td>0</td>\n      <td>0</td>\n      <td>1</td>\n      <td>1</td>\n      <td>1</td>\n      <td>1</td>\n      <td>0</td>\n      <td>0</td>\n    </tr>\n    <tr>\n      <th>10</th>\n      <td>Mario VelÃ¡zquez</td>\n      <td>20</td>\n      <td>0</td>\n      <td>0</td>\n      <td>1</td>\n      <td>0</td>\n      <td>1</td>\n      <td>1</td>\n      <td>1</td>\n      <td>0</td>\n      <td>1</td>\n    </tr>\n  </tbody>\n</table>\n</div>"
     },
     "metadata": {},
     "execution_count": 43
    }
   ],
   "source": [
    "partner_data = pd.read_csv(\n",
    "    'partners-dataset/partners.item', \n",
    "    sep = '|', \n",
    "    encoding = \"ISO-8859-1\", \n",
    "    header = None, \n",
    "    names = partner_data_columns,\n",
    "    index_col = 'partner_id'\n",
    ")\n",
    "\n",
    "partner_data"
   ]
  },
  {
   "cell_type": "code",
   "execution_count": 44,
   "metadata": {
    "collapsed": false
   },
   "outputs": [
    {
     "output_type": "execute_result",
     "data": {
      "text/plain": [
       "                          name  experience  Others  Banca  Competencia  \\\n",
       "partner_id                                                               \n",
       "1                Eva MartÃ­nez          15       0      0            0   \n",
       "2           Juan Carlos LÃ³pez          10       0      1            0   \n",
       "3              MarÃ­a Ãlvarez          20       0      1            0   \n",
       "4              Carmen Guijarro          30       1      0            0   \n",
       "5              JesÃºs Quintero           5       0      1            0   \n",
       "6              Roberto GarcÃ­a          25       0      1            0   \n",
       "7                   Marina Gil           5       0      1            0   \n",
       "8            Javier SebastiÃ¡n          10       0      1            1   \n",
       "9               Teresa Herrera          25       0      0            0   \n",
       "10            Mario VelÃ¡zquez          20       0      0            1   \n",
       "\n",
       "            Energia  Farma  Inmobiliario  Infraestructuras  Tech  M&A  \n",
       "partner_id                                                             \n",
       "1                 0      0             0                 0     0    1  \n",
       "2                 0      0             0                 1     0    0  \n",
       "3                 0      0             1                 0     1    0  \n",
       "4                 1      0             1                 1     0    0  \n",
       "5                 0      0             0                 0     0    0  \n",
       "6                 0      0             1                 1     0    0  \n",
       "7                 1      0             1                 1     0    0  \n",
       "8                 1      0             1                 1     1    0  \n",
       "9                 1      1             1                 1     0    0  \n",
       "10                0      1             1                 1     0    1  "
      ],
      "text/html": "<div>\n<style scoped>\n    .dataframe tbody tr th:only-of-type {\n        vertical-align: middle;\n    }\n\n    .dataframe tbody tr th {\n        vertical-align: top;\n    }\n\n    .dataframe thead th {\n        text-align: right;\n    }\n</style>\n<table border=\"1\" class=\"dataframe\">\n  <thead>\n    <tr style=\"text-align: right;\">\n      <th></th>\n      <th>name</th>\n      <th>experience</th>\n      <th>Others</th>\n      <th>Banca</th>\n      <th>Competencia</th>\n      <th>Energia</th>\n      <th>Farma</th>\n      <th>Inmobiliario</th>\n      <th>Infraestructuras</th>\n      <th>Tech</th>\n      <th>M&amp;A</th>\n    </tr>\n    <tr>\n      <th>partner_id</th>\n      <th></th>\n      <th></th>\n      <th></th>\n      <th></th>\n      <th></th>\n      <th></th>\n      <th></th>\n      <th></th>\n      <th></th>\n      <th></th>\n      <th></th>\n    </tr>\n  </thead>\n  <tbody>\n    <tr>\n      <th>1</th>\n      <td>Eva MartÃ­nez</td>\n      <td>15</td>\n      <td>0</td>\n      <td>0</td>\n      <td>0</td>\n      <td>0</td>\n      <td>0</td>\n      <td>0</td>\n      <td>0</td>\n      <td>0</td>\n      <td>1</td>\n    </tr>\n    <tr>\n      <th>2</th>\n      <td>Juan Carlos LÃ³pez</td>\n      <td>10</td>\n      <td>0</td>\n      <td>1</td>\n      <td>0</td>\n      <td>0</td>\n      <td>0</td>\n      <td>0</td>\n      <td>1</td>\n      <td>0</td>\n      <td>0</td>\n    </tr>\n    <tr>\n      <th>3</th>\n      <td>MarÃ­a Ãlvarez</td>\n      <td>20</td>\n      <td>0</td>\n      <td>1</td>\n      <td>0</td>\n      <td>0</td>\n      <td>0</td>\n      <td>1</td>\n      <td>0</td>\n      <td>1</td>\n      <td>0</td>\n    </tr>\n    <tr>\n      <th>4</th>\n      <td>Carmen Guijarro</td>\n      <td>30</td>\n      <td>1</td>\n      <td>0</td>\n      <td>0</td>\n      <td>1</td>\n      <td>0</td>\n      <td>1</td>\n      <td>1</td>\n      <td>0</td>\n      <td>0</td>\n    </tr>\n    <tr>\n      <th>5</th>\n      <td>JesÃºs Quintero</td>\n      <td>5</td>\n      <td>0</td>\n      <td>1</td>\n      <td>0</td>\n      <td>0</td>\n      <td>0</td>\n      <td>0</td>\n      <td>0</td>\n      <td>0</td>\n      <td>0</td>\n    </tr>\n    <tr>\n      <th>6</th>\n      <td>Roberto GarcÃ­a</td>\n      <td>25</td>\n      <td>0</td>\n      <td>1</td>\n      <td>0</td>\n      <td>0</td>\n      <td>0</td>\n      <td>1</td>\n      <td>1</td>\n      <td>0</td>\n      <td>0</td>\n    </tr>\n    <tr>\n      <th>7</th>\n      <td>Marina Gil</td>\n      <td>5</td>\n      <td>0</td>\n      <td>1</td>\n      <td>0</td>\n      <td>1</td>\n      <td>0</td>\n      <td>1</td>\n      <td>1</td>\n      <td>0</td>\n      <td>0</td>\n    </tr>\n    <tr>\n      <th>8</th>\n      <td>Javier SebastiÃ¡n</td>\n      <td>10</td>\n      <td>0</td>\n      <td>1</td>\n      <td>1</td>\n      <td>1</td>\n      <td>0</td>\n      <td>1</td>\n      <td>1</td>\n      <td>1</td>\n      <td>0</td>\n    </tr>\n    <tr>\n      <th>9</th>\n      <td>Teresa Herrera</td>\n      <td>25</td>\n      <td>0</td>\n      <td>0</td>\n      <td>0</td>\n      <td>1</td>\n      <td>1</td>\n      <td>1</td>\n      <td>1</td>\n      <td>0</td>\n      <td>0</td>\n    </tr>\n    <tr>\n      <th>10</th>\n      <td>Mario VelÃ¡zquez</td>\n      <td>20</td>\n      <td>0</td>\n      <td>0</td>\n      <td>1</td>\n      <td>0</td>\n      <td>1</td>\n      <td>1</td>\n      <td>1</td>\n      <td>0</td>\n      <td>1</td>\n    </tr>\n  </tbody>\n</table>\n</div>"
     },
     "metadata": {},
     "execution_count": 44
    }
   ],
   "source": [
    "selected_columns = np.append(['name', 'experience'], practice_data['name'].values)\n",
    "partner_data = partner_data[selected_columns]\n",
    "\n",
    "partner_data"
   ]
  },
  {
   "cell_type": "markdown",
   "metadata": {},
   "source": [
    "# Remove null values"
   ]
  },
  {
   "cell_type": "code",
   "execution_count": 45,
   "metadata": {
    "collapsed": false
   },
   "outputs": [
    {
     "output_type": "execute_result",
     "data": {
      "text/plain": [
       "name                False\n",
       "experience          False\n",
       "Others              False\n",
       "Banca               False\n",
       "Competencia         False\n",
       "Energia             False\n",
       "Farma               False\n",
       "Inmobiliario        False\n",
       "Infraestructuras    False\n",
       "Tech                False\n",
       "M&A                 False\n",
       "dtype: bool"
      ]
     },
     "metadata": {},
     "execution_count": 45
    }
   ],
   "source": [
    "partner_data[selected_columns].isnull().any()"
   ]
  },
  {
   "cell_type": "code",
   "execution_count": null,
   "metadata": {
    "collapsed": true
   },
   "outputs": [],
   "source": [
    "null_release_dates = movie_data[movie_data['release_date'].isnull()]\n",
    "assert null_release_dates.shape[0] == 1"
   ]
  },
  {
   "cell_type": "code",
   "execution_count": null,
   "metadata": {
    "collapsed": true
   },
   "outputs": [],
   "source": [
    "movie_data = movie_data.drop(null_release_dates.index.values)\n",
    "assert movie_data[selected_columns].isnull().any().any() == False"
   ]
  },
  {
   "cell_type": "markdown",
   "metadata": {},
   "source": [
    "# Check data types"
   ]
  },
  {
   "cell_type": "code",
   "execution_count": 46,
   "metadata": {
    "collapsed": false
   },
   "outputs": [
    {
     "output_type": "execute_result",
     "data": {
      "text/plain": [
       "name                object\n",
       "experience           int64\n",
       "Others               int64\n",
       "Banca                int64\n",
       "Competencia          int64\n",
       "Energia              int64\n",
       "Farma                int64\n",
       "Inmobiliario         int64\n",
       "Infraestructuras     int64\n",
       "Tech                 int64\n",
       "M&A                  int64\n",
       "dtype: object"
      ]
     },
     "metadata": {},
     "execution_count": 46
    }
   ],
   "source": [
    "partner_data.dtypes"
   ]
  },
  {
   "cell_type": "markdown",
   "metadata": {},
   "source": [
    "# Compute the partner score and \"fit_probability\" attributes"
   ]
  },
  {
   "cell_type": "code",
   "execution_count": 54,
   "metadata": {},
   "outputs": [],
   "source": [
    "new_offer = {\n",
    "    'experience': 15,\n",
    "    'Others': 0,\n",
    "    'Banca': 1,\n",
    "    'Competencia': 1,\n",
    "    'Energia': 0,\n",
    "    'Farma': 0,\n",
    "    'Inmobiliario': 1,\n",
    "    'Infraestructuras': 0,\n",
    "    'Tech': 0,\n",
    "    'M&A': 0\n",
    "}"
   ]
  },
  {
   "cell_type": "code",
   "execution_count": 61,
   "metadata": {
    "collapsed": false
   },
   "outputs": [
    {
     "output_type": "execute_result",
     "data": {
      "text/plain": [
       "                          name  score\n",
       "partner_id                           \n",
       "1                Eva MartÃ­nez      1\n",
       "2           Juan Carlos LÃ³pez      1\n",
       "3              MarÃ­a Ãlvarez      2\n",
       "4              Carmen Guijarro      1\n",
       "5              JesÃºs Quintero      1\n",
       "6              Roberto GarcÃ­a      2\n",
       "7                   Marina Gil      2\n",
       "8            Javier SebastiÃ¡n      3\n",
       "9               Teresa Herrera      1\n",
       "10            Mario VelÃ¡zquez      2"
      ],
      "text/html": "<div>\n<style scoped>\n    .dataframe tbody tr th:only-of-type {\n        vertical-align: middle;\n    }\n\n    .dataframe tbody tr th {\n        vertical-align: top;\n    }\n\n    .dataframe thead th {\n        text-align: right;\n    }\n</style>\n<table border=\"1\" class=\"dataframe\">\n  <thead>\n    <tr style=\"text-align: right;\">\n      <th></th>\n      <th>name</th>\n      <th>score</th>\n    </tr>\n    <tr>\n      <th>partner_id</th>\n      <th></th>\n      <th></th>\n    </tr>\n  </thead>\n  <tbody>\n    <tr>\n      <th>1</th>\n      <td>Eva MartÃ­nez</td>\n      <td>1</td>\n    </tr>\n    <tr>\n      <th>2</th>\n      <td>Juan Carlos LÃ³pez</td>\n      <td>1</td>\n    </tr>\n    <tr>\n      <th>3</th>\n      <td>MarÃ­a Ãlvarez</td>\n      <td>2</td>\n    </tr>\n    <tr>\n      <th>4</th>\n      <td>Carmen Guijarro</td>\n      <td>1</td>\n    </tr>\n    <tr>\n      <th>5</th>\n      <td>JesÃºs Quintero</td>\n      <td>1</td>\n    </tr>\n    <tr>\n      <th>6</th>\n      <td>Roberto GarcÃ­a</td>\n      <td>2</td>\n    </tr>\n    <tr>\n      <th>7</th>\n      <td>Marina Gil</td>\n      <td>2</td>\n    </tr>\n    <tr>\n      <th>8</th>\n      <td>Javier SebastiÃ¡n</td>\n      <td>3</td>\n    </tr>\n    <tr>\n      <th>9</th>\n      <td>Teresa Herrera</td>\n      <td>1</td>\n    </tr>\n    <tr>\n      <th>10</th>\n      <td>Mario VelÃ¡zquez</td>\n      <td>2</td>\n    </tr>\n  </tbody>\n</table>\n</div>"
     },
     "metadata": {},
     "execution_count": 61
    }
   ],
   "source": [
    "#for partner in partner_data.rows:\n",
    "scores = []\n",
    "for index, partner in partner_data.iterrows():\n",
    "    score = 0\n",
    "    for field in new_offer:\n",
    "        if new_offer[field] and partner[field] == new_offer[field]:\n",
    "            score += 1\n",
    "    scores.append(score)\n",
    "\n",
    "partner_data['score'] = scores\n",
    "partner_data[['name', 'score']]"
   ]
  },
  {
   "cell_type": "code",
   "execution_count": null,
   "metadata": {
    "collapsed": true
   },
   "outputs": [],
   "source": [
    "# one movie had title unknown, relesease data unknown, etc...\n",
    "movie_data = movie_data[movie_data['price'].notnull()]"
   ]
  },
  {
   "cell_type": "code",
   "execution_count": null,
   "metadata": {
    "collapsed": false
   },
   "outputs": [],
   "source": [
    "# the lower the price, the more likely I am going to buy\n",
    "movie_data['buy_probability'] = 1 - movie_data['price'] * 0.1"
   ]
  },
  {
   "cell_type": "markdown",
   "metadata": {},
   "source": [
    "# The perfect ranking"
   ]
  },
  {
   "cell_type": "code",
   "execution_count": null,
   "metadata": {
    "collapsed": false
   },
   "outputs": [],
   "source": [
    "plt.plot(movie_data['price'].values, movie_data['buy_probability'].values, 'ro') # ro = red circles\n",
    "plt.xlabel('price')\n",
    "plt.ylabel('buy_probability')\n",
    "plt.show()"
   ]
  },
  {
   "cell_type": "markdown",
   "metadata": {},
   "source": [
    "## Genres distribution"
   ]
  },
  {
   "cell_type": "code",
   "execution_count": null,
   "metadata": {
    "collapsed": false
   },
   "outputs": [],
   "source": [
    "def plot_genres(movie_data):\n",
    "    genres_array = [(genre, movie_data[genre].sum()) for genre in genres_data['name'].values]\n",
    "    genres_names = list(map(lambda x: x[0], genres_array))\n",
    "    genres_count = list(map(lambda x: x[1], genres_array))\n",
    "\n",
    "    genres_df = pd.DataFrame({'name': genres_names, 'count': genres_count})\n",
    "    x = np.arange(len(genres_df['name'].values))\n",
    "    plt.bar(x, genres_df['count'].values)\n",
    "    plt.xticks(x, genres_df['name'].values, rotation='vertical')\n",
    "    plt.title(\"Genres distribution\")\n",
    "    \n",
    "def plot_years(movie_data):\n",
    "    years = movie_data['release_date'].values.astype('datetime64[Y]').astype(int) + 1970\n",
    "    plt.hist(years)\n",
    "    plt.title(\"Years distribution\")\n",
    "    \n",
    "def plot_ratings(movie_data):\n",
    "    movie_data['ratings_average'].hist()\n",
    "    plt.title(\"Ratings distribution\")\n",
    "    \n",
    "def plot_price(movie_data):\n",
    "    movie_data['price'].hist()\n",
    "    plt.title(\"Price distribution\")\n",
    "    \n",
    "def plot_ratings_count(movie_data):\n",
    "    movie_data['ratings_count'].hist()\n",
    "    plt.title(\"Ratings count\")\n",
    "    \n",
    "def buy_probability_distribution(movie_data):\n",
    "    movie_data['buy_probability'].hist(bins=11)\n",
    "    plt.title(\"Buy probability distribution\")"
   ]
  },
  {
   "cell_type": "code",
   "execution_count": null,
   "metadata": {
    "collapsed": false
   },
   "outputs": [],
   "source": [
    "def plot_distributions(movie_data):\n",
    "    fig = plt.figure(figsize=(8, 6)) \n",
    "\n",
    "    fig.add_subplot(3, 2, 1)\n",
    "    plot_genres(movie_data)\n",
    "\n",
    "    fig.add_subplot(3, 2, 2)\n",
    "    plot_years(movie_data)\n",
    "\n",
    "    fig.add_subplot(3, 2, 3)\n",
    "    plot_ratings(movie_data)\n",
    "\n",
    "    fig.add_subplot(3, 2, 4)\n",
    "    plot_price(movie_data)\n",
    "\n",
    "    fig.add_subplot(3, 2, 5)\n",
    "    plot_ratings_count(movie_data)\n",
    "\n",
    "    fig.add_subplot(3, 2, 6)\n",
    "    buy_probability_distribution(movie_data)\n",
    "\n",
    "    plt.tight_layout()"
   ]
  },
  {
   "cell_type": "code",
   "execution_count": null,
   "metadata": {
    "collapsed": false
   },
   "outputs": [],
   "source": [
    "plot_distributions(movie_data)"
   ]
  },
  {
   "cell_type": "markdown",
   "metadata": {},
   "source": [
    "# Events database functions"
   ]
  },
  {
   "cell_type": "code",
   "execution_count": null,
   "metadata": {
    "collapsed": true
   },
   "outputs": [],
   "source": [
    "# The users database\n",
    "class User:\n",
    "    def __init__(self, id):\n",
    "        self.id = id\n",
    "        self.positive = []\n",
    "        self.negative = []\n",
    "        \n",
    "    def add_positive(self, movie_id):\n",
    "        self.positive.append(movie_id)\n",
    "    \n",
    "    def add_negative(self, movie_id):\n",
    "        self.negative.append(movie_id)\n",
    "    \n",
    "    def get_positive(self):\n",
    "        return self.positive\n",
    "    \n",
    "    def get_negative(self):\n",
    "        return self.negative"
   ]
  },
  {
   "cell_type": "code",
   "execution_count": null,
   "metadata": {
    "collapsed": false
   },
   "outputs": [],
   "source": [
    "np.random.seed(1)\n",
    "\n",
    "class EventsGenerator:\n",
    "    NUM_OF_OPENED_MOVIES_PER_USER = 20\n",
    "    NUM_OF_USERS = 1000\n",
    "\n",
    "    def __init__(self, learning_data, buy_probability):\n",
    "        self.learning_data = learning_data\n",
    "        self.buy_probability = buy_probability\n",
    "        self.users = []\n",
    "        for id in range(1, self.NUM_OF_USERS):\n",
    "            self.users.append(User(id))\n",
    "        \n",
    "    def run(self, pairwise=False):\n",
    "        for user in self.users:\n",
    "            opened_movies = np.random.choice(self.learning_data.index.values, self.NUM_OF_OPENED_MOVIES_PER_USER)\n",
    "            self.__add_positives_and_negatives_to(user, opened_movies)\n",
    "\n",
    "        if pairwise:\n",
    "            return self.__build_pairwise_events_data()\n",
    "        else:\n",
    "            return self.__build_events_data()\n",
    "\n",
    "    def __add_positives_and_negatives_to(self, user, opened_movies):\n",
    "        for movie_id in opened_movies:\n",
    "            if np.random.binomial(1, self.buy_probability.loc[movie_id]): \n",
    "                user.add_positive(movie_id)\n",
    "            else:\n",
    "                user.add_negative(movie_id)\n",
    "                \n",
    "    def __build_events_data(self):\n",
    "        events_data = []\n",
    "        \n",
    "        for user in self.users:\n",
    "            for positive_id in user.get_positive():\n",
    "                tmp = learning_data.loc[positive_id].to_dict()\n",
    "                tmp['outcome'] = 1\n",
    "                events_data += [tmp]\n",
    "            \n",
    "            for negative_id in user.get_negative():\n",
    "                tmp = learning_data.loc[negative_id].to_dict()\n",
    "                tmp['outcome'] = 0\n",
    "                events_data += [tmp]\n",
    "                \n",
    "        return pd.DataFrame(events_data)\n",
    "    \n",
    "    def __build_pairwise_events_data(self):\n",
    "        events_data = []\n",
    "        \n",
    "        for i, user in enumerate(self.users):\n",
    "            print(\"{} of {}\".format(i, len(self.users)))\n",
    "            positives = user.get_positive()\n",
    "            negatives = user.get_negative()\n",
    "            \n",
    "            sample_size = min(len(positives), len(negatives))\n",
    "            \n",
    "            positives = np.random.choice(positives, sample_size)\n",
    "            negatives = np.random.choice(negatives, sample_size)\n",
    "            \n",
    "            # print(\"Adding {} events\".format(str(len(positives) * len(negatives) * 2)))\n",
    "            for positive in positives:\n",
    "                for negative in negatives:                    \n",
    "                    e1 = learning_data.loc[positive].values\n",
    "                    e2 = learning_data.loc[negative].values\n",
    "                    \n",
    "                    pos_neg_example = np.concatenate([e1, e2, [1]])\n",
    "                    neg_pos_example = np.concatenate([e2, e1, [0]])\n",
    "                    \n",
    "                    events_data.append(pos_neg_example)\n",
    "                    events_data.append(neg_pos_example)\n",
    "        \n",
    "        c1 = [ c + '_1' for c in learning_data.columns]\n",
    "        c2 = [ c + '_2' for c in learning_data.columns]\n",
    "        return pd.DataFrame(events_data, columns = np.concatenate([c1, c2, ['outcome']]))"
   ]
  },
  {
   "cell_type": "code",
   "execution_count": null,
   "metadata": {
    "collapsed": true
   },
   "outputs": [],
   "source": [
    "def build_learning_data_from(movie_data):\n",
    "    feature_columns = np.setdiff1d(movie_data.columns, np.array(['title', 'buy_probability']))\n",
    "    learning_data = movie_data.loc[:, feature_columns]\n",
    "    \n",
    "    scaler = StandardScaler()\n",
    "    learning_data.loc[:, ('price')] = scaler.fit_transform(learning_data[['price']])\n",
    "    learning_data['ratings_average'] = scaler.fit_transform(learning_data[['ratings_average']])\n",
    "    learning_data['ratings_count'] = scaler.fit_transform(learning_data[['ratings_count']])\n",
    "    learning_data['release_date'] = learning_data['release_date'].apply(lambda x: x.year)\n",
    "    learning_data['release_date'] = scaler.fit_transform(learning_data[['release_date']])\n",
    "    \n",
    "    return learning_data"
   ]
  },
  {
   "cell_type": "code",
   "execution_count": null,
   "metadata": {
    "collapsed": true
   },
   "outputs": [],
   "source": [
    "def plot_events_distribution(events_data):\n",
    "    events_data_sample = events_data.sample(frac=0.1)\n",
    "    negative_outcomes = events_data_sample[events_data_sample['outcome'] == 0.0]['price']\n",
    "    positive_outcomes = events_data_sample[events_data_sample['outcome'] == 1.0]['price']\n",
    "    \n",
    "    outcomes = np.array(list(zip(negative_outcomes.values, positive_outcomes.values)))\n",
    "    plt.hist(outcomes, bins=11, label = ['Negative', 'Positive'])\n",
    "    plt.legend()\n",
    "    plt.xlabel('price')\n",
    "    plt.show()"
   ]
  },
  {
   "cell_type": "code",
   "execution_count": null,
   "metadata": {
    "collapsed": true
   },
   "outputs": [],
   "source": [
    "def get_feature_columns_from(learning_data, pairwise=False):\n",
    "    if not pairwise:\n",
    "        return learning_data.columns.values\n",
    "    else:\n",
    "        f1 = [c + '_1' for c in learning_data.columns.values]\n",
    "        f2 = [c + '_2' for c in learning_data.columns.values]\n",
    "        f1.extend(f2)\n",
    "        return np.asarray(f1)"
   ]
  },
  {
   "cell_type": "code",
   "execution_count": null,
   "metadata": {
    "collapsed": false
   },
   "outputs": [],
   "source": [
    "def save_events_data(events_data, learning_data, tag, pairwise=False):\n",
    "    events_data = events_data.reindex(np.random.permutation(events_data.index))\n",
    "    events_data.to_csv('movie_events_' + tag + '.csv')\n",
    "    \n",
    "    if not pairwise:\n",
    "        df = pd.DataFrame(get_feature_columns_from(learning_data))\n",
    "        df.to_csv(\"feature_columns_\" + tag + \".csv\")\n",
    "    else:\n",
    "        df = pd.DataFrame(get_feature_columns_from(learning_data, pairwise=True))\n",
    "        df.to_csv(\"feature_columns_\" + tag + \".csv\")"
   ]
  },
  {
   "cell_type": "code",
   "execution_count": null,
   "metadata": {
    "collapsed": false
   },
   "outputs": [],
   "source": [
    "def load_events_data(tag):\n",
    "    events_data = pd.DataFrame.from_csv('movie_events_' + tag + '.csv')\n",
    "    tmp = pd.DataFrame.from_csv(\"feature_columns_\" + tag + \".csv\")\n",
    "    feature_columns = tmp['0'].values\n",
    "    \n",
    "    return [events_data, feature_columns]"
   ]
  },
  {
   "cell_type": "code",
   "execution_count": null,
   "metadata": {
    "collapsed": false
   },
   "outputs": [],
   "source": [
    "def get_test_train_data(events_data, feature_columns):\n",
    "    X = events_data.loc[:, feature_columns].values.astype(np.float32)\n",
    "    print('overall input shape: ' + str(X.shape))\n",
    "\n",
    "    y = events_data.loc[:, ['outcome']].values.astype(np.float32).ravel()\n",
    "    print('overall output shape: ' + str(y.shape))\n",
    "\n",
    "    X_train, X_test, y_train, y_test = train_test_split(X, y, test_size=0.2, random_state=42)\n",
    "    print('training input shape: ' + str(X_train.shape))\n",
    "    print('training output shape: ' + str(y_train.shape))\n",
    "\n",
    "    print('testing input shape: ' + str(X_test.shape))\n",
    "    print('testing output shape: ' + str(y_test.shape))\n",
    "    \n",
    "    return [X_train, X_test, y_train, y_test]"
   ]
  },
  {
   "cell_type": "markdown",
   "metadata": {},
   "source": [
    "# Generate linear events"
   ]
  },
  {
   "cell_type": "code",
   "execution_count": null,
   "metadata": {
    "collapsed": true
   },
   "outputs": [],
   "source": [
    "learning_data = build_learning_data_from(movie_data)"
   ]
  },
  {
   "cell_type": "code",
   "execution_count": null,
   "metadata": {
    "collapsed": false
   },
   "outputs": [],
   "source": [
    "events_data = EventsGenerator(learning_data, movie_data['buy_probability']).run()"
   ]
  },
  {
   "cell_type": "code",
   "execution_count": null,
   "metadata": {
    "collapsed": true
   },
   "outputs": [],
   "source": [
    "save_events_data(events_data, learning_data, 'linear')"
   ]
  },
  {
   "cell_type": "code",
   "execution_count": null,
   "metadata": {
    "collapsed": false
   },
   "outputs": [],
   "source": [
    "events_data, feature_columns = load_events_data('linear')"
   ]
  },
  {
   "cell_type": "code",
   "execution_count": null,
   "metadata": {
    "collapsed": false
   },
   "outputs": [],
   "source": [
    "plot_events_distribution(events_data)"
   ]
  },
  {
   "cell_type": "markdown",
   "metadata": {},
   "source": [
    "## Pairwise"
   ]
  },
  {
   "cell_type": "code",
   "execution_count": null,
   "metadata": {
    "collapsed": false
   },
   "outputs": [],
   "source": [
    "events_data = EventsGenerator(learning_data, movie_data['buy_probability']).run(pairwise=True)"
   ]
  },
  {
   "cell_type": "code",
   "execution_count": null,
   "metadata": {
    "collapsed": false
   },
   "outputs": [],
   "source": [
    "save_events_data(events_data, learning_data, 'pairwise-linear', pairwise=True)"
   ]
  },
  {
   "cell_type": "code",
   "execution_count": null,
   "metadata": {
    "collapsed": false
   },
   "outputs": [],
   "source": [
    "events_data, feature_columns = load_events_data('pairwise-linear')"
   ]
  },
  {
   "cell_type": "code",
   "execution_count": null,
   "metadata": {
    "collapsed": false
   },
   "outputs": [],
   "source": [
    "events_data.shape"
   ]
  },
  {
   "cell_type": "markdown",
   "metadata": {},
   "source": [
    "# Train/Test data split"
   ]
  },
  {
   "cell_type": "code",
   "execution_count": null,
   "metadata": {
    "collapsed": false
   },
   "outputs": [],
   "source": [
    "X_train, X_test, y_train, y_test = get_test_train_data(events_data, feature_columns)"
   ]
  },
  {
   "cell_type": "markdown",
   "metadata": {},
   "source": [
    "# Utility functions"
   ]
  },
  {
   "cell_type": "code",
   "execution_count": null,
   "metadata": {
    "collapsed": true
   },
   "outputs": [],
   "source": [
    "def plot_rank(features, model, learning_data, predict_fun):\n",
    "    lg_input = learning_data.values.astype(np.float32)\n",
    "    print('overall input shape: ' + str(lg_input.shape))\n",
    "\n",
    "    learning_data_with_rank = learning_data.copy()\n",
    "    learning_data_with_rank['rank'] = predict_fun(model, lg_input)\n",
    "    \n",
    "    for idx, feature in enumerate(features):\n",
    "        plt.subplot(len(features), 1, idx + 1)\n",
    "        plt.plot(learning_data_with_rank[feature].values, learning_data_with_rank['rank'].values, 'ro')\n",
    "        plt.xlabel(feature)\n",
    "        plt.ylabel('rank')\n",
    "        \n",
    "    plt.tight_layout()\n",
    "    plt.show()"
   ]
  },
  {
   "cell_type": "code",
   "execution_count": null,
   "metadata": {
    "collapsed": true
   },
   "outputs": [],
   "source": [
    "def train_model(model, prediction_function, X_train, y_train, X_test, y_test):\n",
    "    model.fit(X_train, y_train)\n",
    "    \n",
    "    y_train_pred = prediction_function(model, X_train)\n",
    "\n",
    "    print('train precision: ' + str(precision_score(y_train, y_train_pred)))\n",
    "    print('train recall: ' + str(recall_score(y_train, y_train_pred)))\n",
    "    print('train accuracy: ' + str(accuracy_score(y_train, y_train_pred)))\n",
    "\n",
    "    y_test_pred = prediction_function(model, X_test)\n",
    "\n",
    "    print('test precision: ' + str(precision_score(y_test, y_test_pred)))\n",
    "    print('test recall: ' + str(recall_score(y_test, y_test_pred)))\n",
    "    print('test accuracy: ' + str(accuracy_score(y_test, y_test_pred)))\n",
    "    \n",
    "    return model"
   ]
  },
  {
   "cell_type": "markdown",
   "metadata": {},
   "source": [
    "# Rank with the perfect predictor"
   ]
  },
  {
   "cell_type": "code",
   "execution_count": null,
   "metadata": {
    "collapsed": true
   },
   "outputs": [],
   "source": [
    "def get_predicted_outcome(model, data):\n",
    "    return np.rint(model.predict(data))"
   ]
  },
  {
   "cell_type": "code",
   "execution_count": null,
   "metadata": {
    "collapsed": true
   },
   "outputs": [],
   "source": [
    "def get_predicted_rank(model, data):\n",
    "    return model.predict(data)"
   ]
  },
  {
   "cell_type": "code",
   "execution_count": null,
   "metadata": {
    "collapsed": true
   },
   "outputs": [],
   "source": [
    "import warnings\n",
    "warnings.filterwarnings(\"ignore\", category=DeprecationWarning)"
   ]
  },
  {
   "cell_type": "code",
   "execution_count": null,
   "metadata": {
    "collapsed": false
   },
   "outputs": [],
   "source": [
    "class PerfectPredictor:\n",
    "    def fit(self, X, y):\n",
    "        return None\n",
    "    \n",
    "    def predict(self, X):\n",
    "        min_max_scaler = preprocessing.MinMaxScaler()\n",
    "        return 1 - min_max_scaler.fit_transform(X[:, -5])"
   ]
  },
  {
   "cell_type": "code",
   "execution_count": null,
   "metadata": {
    "collapsed": false
   },
   "outputs": [],
   "source": [
    "model = train_model(PerfectPredictor(), get_predicted_outcome, X_train, y_train, X_test, y_test)\n",
    "plot_rank(['price'], model, learning_data, get_predicted_rank)"
   ]
  },
  {
   "cell_type": "markdown",
   "metadata": {},
   "source": [
    "# Rank with a Logistic Regression\n",
    "\n",
    "* Collect for each movie the buy probability from the raw events\n",
    "* Run a beta regression\n",
    "\n",
    "=> Expect the coefficients to represent the artificial probability function"
   ]
  },
  {
   "cell_type": "code",
   "execution_count": null,
   "metadata": {
    "collapsed": true
   },
   "outputs": [],
   "source": [
    "def get_predicted_outcome(model, data):\n",
    "    return np.argmax(model.predict_proba(data), axis=1).astype(np.float32)"
   ]
  },
  {
   "cell_type": "code",
   "execution_count": null,
   "metadata": {
    "collapsed": true
   },
   "outputs": [],
   "source": [
    "def get_predicted_rank(model, data):\n",
    "    return model.predict_proba(data)[:, 1]"
   ]
  },
  {
   "cell_type": "code",
   "execution_count": null,
   "metadata": {
    "collapsed": false,
    "scrolled": true
   },
   "outputs": [],
   "source": [
    "model = train_model(LogisticRegression(), get_predicted_outcome, X_train, y_train, X_test, y_test)"
   ]
  },
  {
   "cell_type": "code",
   "execution_count": null,
   "metadata": {
    "collapsed": false
   },
   "outputs": [],
   "source": [
    "plot_rank(['price'], model, learning_data, get_predicted_rank)"
   ]
  },
  {
   "cell_type": "markdown",
   "metadata": {
    "collapsed": true
   },
   "source": [
    "# Rank with Neural Network"
   ]
  },
  {
   "cell_type": "code",
   "execution_count": null,
   "metadata": {
    "collapsed": false
   },
   "outputs": [],
   "source": [
    "def nn():\n",
    "    return NeuralNet(\n",
    "        layers=[  # three layers: one hidden layer\n",
    "            ('input', layers.InputLayer),\n",
    "            ('hidden', layers.DenseLayer),\n",
    "            ('output', layers.DenseLayer),\n",
    "            ],\n",
    "        # layer parameters:\n",
    "        input_shape=(None, 23),  # this code won't compile without SIZE being set\n",
    "        hidden_num_units=46,  # number of units in hidden layer\n",
    "        output_nonlinearity=None,  # output layer uses identity function\n",
    "        output_num_units=1,  # this code won't compile without OUTPUTS being set\n",
    "\n",
    "        # optimization method:\n",
    "        update_learning_rate=0.01, \n",
    "        regression=True,  # If you're doing classification you want this off\n",
    "        max_epochs=50,  # more epochs can be good, \n",
    "        verbose=1, # enabled so that you see meaningful output when the program runs\n",
    "    )"
   ]
  },
  {
   "cell_type": "code",
   "execution_count": null,
   "metadata": {
    "collapsed": true
   },
   "outputs": [],
   "source": [
    "def get_predicted_outcome(model, data):\n",
    "    return np.rint(model.predict(data))"
   ]
  },
  {
   "cell_type": "code",
   "execution_count": null,
   "metadata": {
    "collapsed": true
   },
   "outputs": [],
   "source": [
    "def get_predicted_rank(model, data):\n",
    "    return model.predict(data)"
   ]
  },
  {
   "cell_type": "code",
   "execution_count": null,
   "metadata": {
    "collapsed": false
   },
   "outputs": [],
   "source": [
    "model = train_model(\n",
    "    nn(), \n",
    "    get_predicted_outcome, \n",
    "    X_train.astype(np.float32), \n",
    "    y_train.astype(np.float32), \n",
    "    X_test.astype(np.float32), \n",
    "    y_test.astype(np.float32)\n",
    ")"
   ]
  },
  {
   "cell_type": "code",
   "execution_count": null,
   "metadata": {
    "collapsed": false
   },
   "outputs": [],
   "source": [
    "plot_rank(['price'], model, learning_data, get_predicted_rank)"
   ]
  },
  {
   "cell_type": "markdown",
   "metadata": {
    "collapsed": true
   },
   "source": [
    "# Rank with Decision Trees"
   ]
  },
  {
   "cell_type": "code",
   "execution_count": null,
   "metadata": {
    "collapsed": true
   },
   "outputs": [],
   "source": [
    "def get_predicted_outcome(model, data):\n",
    "    return np.argmax(model.predict_proba(data), axis=1).astype(np.float32)"
   ]
  },
  {
   "cell_type": "code",
   "execution_count": null,
   "metadata": {
    "collapsed": true
   },
   "outputs": [],
   "source": [
    "def get_predicted_rank(model, data):\n",
    "    return model.predict_proba(data)[:, 1]"
   ]
  },
  {
   "cell_type": "code",
   "execution_count": null,
   "metadata": {
    "collapsed": false
   },
   "outputs": [],
   "source": [
    "from sklearn import tree\n",
    "model = train_model(tree.DecisionTreeClassifier(), get_predicted_outcome, X_train, y_train, X_test, y_test)"
   ]
  },
  {
   "cell_type": "code",
   "execution_count": null,
   "metadata": {
    "collapsed": false
   },
   "outputs": [],
   "source": [
    "plot_rank(['price'], model, learning_data, get_predicted_rank)"
   ]
  },
  {
   "cell_type": "markdown",
   "metadata": {},
   "source": [
    "# Customers with non-linear buying behaviour"
   ]
  },
  {
   "cell_type": "code",
   "execution_count": null,
   "metadata": {
    "collapsed": false
   },
   "outputs": [],
   "source": [
    "price_component = np.sqrt(movie_data['price'] * 0.1)\n",
    "ratings_component = np.sqrt(movie_data['ratings_average'] * 0.1 * 2)\n",
    "movie_data['buy_probability'] = 1 - price_component * 0.2 - ratings_component * 0.8"
   ]
  },
  {
   "cell_type": "code",
   "execution_count": null,
   "metadata": {
    "collapsed": false
   },
   "outputs": [],
   "source": [
    "plot_distributions(movie_data)"
   ]
  },
  {
   "cell_type": "code",
   "execution_count": null,
   "metadata": {
    "collapsed": false
   },
   "outputs": [],
   "source": [
    "plt.subplot(2, 1, 1)\n",
    "plt.plot(movie_data['price'].values, movie_data['buy_probability'].values, 'ro') # ro = red circles\n",
    "plt.xlabel('price')\n",
    "plt.ylabel('buy_probability')\n",
    "\n",
    "plt.subplot(2, 1, 2)\n",
    "plt.plot(movie_data['ratings_average'].values, movie_data['buy_probability'].values, 'ro') # ro = red circles\n",
    "plt.xlabel('ratings_average')\n",
    "plt.ylabel('buy_probability')\n",
    "\n",
    "plt.tight_layout()\n",
    "plt.show()"
   ]
  },
  {
   "cell_type": "markdown",
   "metadata": {},
   "source": [
    "# Create events"
   ]
  },
  {
   "cell_type": "code",
   "execution_count": null,
   "metadata": {
    "collapsed": true
   },
   "outputs": [],
   "source": [
    "learning_data = build_learning_data_from(movie_data)"
   ]
  },
  {
   "cell_type": "code",
   "execution_count": null,
   "metadata": {
    "collapsed": false
   },
   "outputs": [],
   "source": [
    "positive_events, negative_events = generate_events()\n",
    "events_data = build_events_data(positive_events, negative_events, learning_data)\n",
    "save_events_data(events_data, learning_data, 'nonlinear')"
   ]
  },
  {
   "cell_type": "code",
   "execution_count": null,
   "metadata": {
    "collapsed": true
   },
   "outputs": [],
   "source": [
    "events_data, feature_columns = load_events_data('nonlinear')"
   ]
  },
  {
   "cell_type": "code",
   "execution_count": null,
   "metadata": {
    "collapsed": false
   },
   "outputs": [],
   "source": [
    "plot_events_distribution(events_data)"
   ]
  },
  {
   "cell_type": "code",
   "execution_count": null,
   "metadata": {
    "collapsed": false
   },
   "outputs": [],
   "source": [
    "X_train, X_test, y_train, y_test = get_test_train_data(events_data)"
   ]
  },
  {
   "cell_type": "markdown",
   "metadata": {},
   "source": [
    "# Rank with the perfect predictor"
   ]
  },
  {
   "cell_type": "code",
   "execution_count": null,
   "metadata": {
    "collapsed": true
   },
   "outputs": [],
   "source": [
    "def get_predicted_outcome(model, data):\n",
    "    return np.rint(model.predict(data))"
   ]
  },
  {
   "cell_type": "code",
   "execution_count": null,
   "metadata": {
    "collapsed": true
   },
   "outputs": [],
   "source": [
    "def get_predicted_rank(model, data):\n",
    "    return model.predict(data)"
   ]
  },
  {
   "cell_type": "code",
   "execution_count": null,
   "metadata": {
    "collapsed": true
   },
   "outputs": [],
   "source": [
    "import warnings\n",
    "warnings.filterwarnings(\"ignore\", category=DeprecationWarning)"
   ]
  },
  {
   "cell_type": "code",
   "execution_count": null,
   "metadata": {
    "collapsed": false
   },
   "outputs": [],
   "source": [
    "class PerfectPredictor:\n",
    "    def fit(self, X, y):\n",
    "        return None\n",
    "    \n",
    "    def predict(self, X):\n",
    "        min_max_scaler = preprocessing.MinMaxScaler()\n",
    "        price_component = np.sqrt(min_max_scaler.fit_transform(X[:, -5]))\n",
    "        ratings_component = np.sqrt(min_max_scaler.fit_transform(X[:, -4]))\n",
    "        return 1 - price_component * 0.2 - ratings_component * 0.8"
   ]
  },
  {
   "cell_type": "code",
   "execution_count": null,
   "metadata": {
    "collapsed": false
   },
   "outputs": [],
   "source": [
    "model = train_model(PerfectPredictor(), get_predicted_outcome, X_train, y_train, X_test, y_test)\n",
    "plot_rank(['price', 'ratings_average'], model, learning_data, get_predicted_rank)"
   ]
  },
  {
   "cell_type": "markdown",
   "metadata": {},
   "source": [
    "# Rank with Logistic Regression"
   ]
  },
  {
   "cell_type": "code",
   "execution_count": null,
   "metadata": {
    "collapsed": true
   },
   "outputs": [],
   "source": [
    "def get_predicted_outcome(model, data):\n",
    "    return np.argmax(model.predict_proba(data), axis=1).astype(np.float32)"
   ]
  },
  {
   "cell_type": "code",
   "execution_count": null,
   "metadata": {
    "collapsed": true
   },
   "outputs": [],
   "source": [
    "def get_predicted_rank(model, data):\n",
    "    return model.predict_proba(data)[:, 1]"
   ]
  },
  {
   "cell_type": "code",
   "execution_count": null,
   "metadata": {
    "collapsed": false
   },
   "outputs": [],
   "source": [
    "model = train_model(LogisticRegression(), get_predicted_outcome, X_train, y_train, X_test, y_test)"
   ]
  },
  {
   "cell_type": "code",
   "execution_count": null,
   "metadata": {
    "collapsed": false
   },
   "outputs": [],
   "source": [
    "plot_rank(['price', 'ratings_average'], model, learning_data, get_predicted_rank)"
   ]
  },
  {
   "cell_type": "markdown",
   "metadata": {},
   "source": [
    "# Rank with Neural Networks"
   ]
  },
  {
   "cell_type": "code",
   "execution_count": null,
   "metadata": {
    "collapsed": true
   },
   "outputs": [],
   "source": [
    "def get_predicted_outcome(model, data):\n",
    "    return np.rint(model.predict(data))"
   ]
  },
  {
   "cell_type": "code",
   "execution_count": null,
   "metadata": {
    "collapsed": true
   },
   "outputs": [],
   "source": [
    "def get_predicted_rank(model, data):\n",
    "    return model.predict(data)"
   ]
  },
  {
   "cell_type": "code",
   "execution_count": null,
   "metadata": {
    "collapsed": false
   },
   "outputs": [],
   "source": [
    "model = train_model(\n",
    "    nn(), \n",
    "    get_predicted_outcome, \n",
    "    X_train.astype(np.float32), \n",
    "    y_train.astype(np.float32), \n",
    "    X_test.astype(np.float32), \n",
    "    y_test.astype(np.float32)\n",
    ")"
   ]
  },
  {
   "cell_type": "code",
   "execution_count": null,
   "metadata": {
    "collapsed": false
   },
   "outputs": [],
   "source": [
    "plot_rank(['price', 'ratings_average'], model, learning_data, get_predicted_rank)"
   ]
  },
  {
   "cell_type": "markdown",
   "metadata": {
    "collapsed": true
   },
   "source": [
    "# Rank with Decision Trees"
   ]
  },
  {
   "cell_type": "code",
   "execution_count": null,
   "metadata": {
    "collapsed": true
   },
   "outputs": [],
   "source": [
    "def get_predicted_outcome(model, data):\n",
    "    return np.argmax(model.predict_proba(data), axis=1).astype(np.float32)"
   ]
  },
  {
   "cell_type": "code",
   "execution_count": null,
   "metadata": {
    "collapsed": true
   },
   "outputs": [],
   "source": [
    "def get_predicted_rank(model, data):\n",
    "    return model.predict_proba(data)[:, 1]"
   ]
  },
  {
   "cell_type": "code",
   "execution_count": null,
   "metadata": {
    "collapsed": false
   },
   "outputs": [],
   "source": [
    "from sklearn import tree\n",
    "model = train_model(tree.DecisionTreeClassifier(), get_predicted_outcome, X_train, y_train, X_test, y_test)"
   ]
  },
  {
   "cell_type": "code",
   "execution_count": null,
   "metadata": {
    "collapsed": false
   },
   "outputs": [],
   "source": [
    "plot_rank(['price', 'ratings_average'], model, learning_data, get_predicted_rank)"
   ]
  },
  {
   "cell_type": "markdown",
   "metadata": {
    "collapsed": true
   },
   "source": [
    "# Pairwise learning"
   ]
  },
  {
   "cell_type": "code",
   "execution_count": null,
   "metadata": {
    "collapsed": true
   },
   "outputs": [],
   "source": [
    "def nn():\n",
    "    return NeuralNet(\n",
    "        layers=[  # three layers: one hidden layer\n",
    "            ('input', layers.InputLayer),\n",
    "            ('hidden', layers.DenseLayer),\n",
    "            ('output', layers.DenseLayer),\n",
    "            ],\n",
    "        # layer parameters:\n",
    "        input_shape=(None, 46),  # this code won't compile without SIZE being set\n",
    "        hidden_num_units=92,  # number of units in hidden layer\n",
    "        output_nonlinearity=None,  # output layer uses identity function\n",
    "        output_num_units=1,  # this code won't compile without OUTPUTS being set\n",
    "\n",
    "        # optimization method:\n",
    "        update_learning_rate=0.01, \n",
    "        regression=True,  # If you're doing classification you want this off\n",
    "        max_epochs=50,  # more epochs can be good, \n",
    "        verbose=1, # enabled so that you see meaningful output when the program runs\n",
    "    )"
   ]
  },
  {
   "cell_type": "code",
   "execution_count": null,
   "metadata": {
    "collapsed": true
   },
   "outputs": [],
   "source": [
    "def get_predicted_outcome(model, data):\n",
    "    return np.rint(model.predict(data))"
   ]
  },
  {
   "cell_type": "code",
   "execution_count": null,
   "metadata": {
    "collapsed": true
   },
   "outputs": [],
   "source": [
    "def plot_rank_for_pairwise(features, model, learning_data, predict_fun):\n",
    "    learning_data_with_rank = learning_data.copy()\n",
    "    learning_data_with_rank = predict_fun(model, learning_data_with_rank)\n",
    "    \n",
    "    for idx, feature in enumerate(features):\n",
    "        plt.subplot(len(features), 1, idx + 1)\n",
    "        plt.plot(learning_data_with_rank[feature].values, learning_data_with_rank['rank'].values, 'ro')\n",
    "        plt.xlabel(feature)\n",
    "        plt.ylabel('rank')\n",
    "        \n",
    "    plt.tight_layout()\n",
    "    plt.show()"
   ]
  },
  {
   "cell_type": "code",
   "execution_count": null,
   "metadata": {
    "collapsed": true
   },
   "outputs": [],
   "source": [
    "def get_predicted_rank(model, data):\n",
    "    cached_preference = {}\n",
    "\n",
    "    def preference(x, y):\n",
    "        if cached_preference.get((x, y)) is not None:\n",
    "            return cached_preference[x, y]\n",
    "        \n",
    "        x_v = data.loc[x].values\n",
    "        y_v = data.loc[y].values\n",
    "        cached_preference[x, y] = model.predict(np.array([np.concatenate([x_v, y_v])]))\n",
    "        return cached_preference[x, y]\n",
    "        \n",
    "    g = GreedyOrder(data.index, preference)\n",
    "    order = g.run()\n",
    "    for i, row in data.iterrows():\n",
    "        data.loc[i, 'rank'] = 1 - (order.index(i) / float(len(order)))\n",
    "    \n",
    "    return data"
   ]
  },
  {
   "cell_type": "code",
   "execution_count": null,
   "metadata": {
    "collapsed": true
   },
   "outputs": [],
   "source": [
    "from importlib import reload\n",
    "import greedy_order\n",
    "reload(greedy_order)\n",
    "from greedy_order import *"
   ]
  },
  {
   "cell_type": "code",
   "execution_count": null,
   "metadata": {
    "collapsed": false
   },
   "outputs": [],
   "source": [
    "model = train_model(\n",
    "    nn(), \n",
    "    get_predicted_outcome, \n",
    "    X_train.astype(np.float32), \n",
    "    y_train.astype(np.float32), \n",
    "    X_test.astype(np.float32), \n",
    "    y_test.astype(np.float32)\n",
    ")"
   ]
  },
  {
   "cell_type": "code",
   "execution_count": null,
   "metadata": {
    "collapsed": false
   },
   "outputs": [],
   "source": [
    "plot_rank_for_pairwise(['price'], model, learning_data, get_predicted_rank)"
   ]
  },
  {
   "cell_type": "code",
   "execution_count": null,
   "metadata": {
    "collapsed": true
   },
   "outputs": [],
   "source": []
  }
 ],
 "metadata": {
  "hide_input": false,
  "kernelspec": {
   "name": "python3",
   "display_name": "Python 3.8.5 64-bit ('.rankingvenv': venv)",
   "metadata": {
    "interpreter": {
     "hash": "51282e58339c4df1420e8e1387db8b96541a31f00f40776852e5231a7411feee"
    }
   }
  },
  "language_info": {
   "codemirror_mode": {
    "name": "ipython",
    "version": 3
   },
   "file_extension": ".py",
   "mimetype": "text/x-python",
   "name": "python",
   "nbconvert_exporter": "python",
   "pygments_lexer": "ipython3",
   "version": "3.8.5-final"
  }
 },
 "nbformat": 4,
 "nbformat_minor": 0
}